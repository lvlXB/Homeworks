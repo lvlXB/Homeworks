{
  "nbformat": 4,
  "nbformat_minor": 0,
  "metadata": {
    "colab": {
      "provenance": [],
      "authorship_tag": "ABX9TyN5A5eQ8GhTXJaV6n4JIIyA",
      "include_colab_link": true
    },
    "kernelspec": {
      "name": "python3",
      "display_name": "Python 3"
    },
    "language_info": {
      "name": "python"
    }
  },
  "cells": [
    {
      "cell_type": "markdown",
      "metadata": {
        "id": "view-in-github",
        "colab_type": "text"
      },
      "source": [
        "<a href=\"https://colab.research.google.com/github/lvlXB/Homeworks/blob/main/ArrayAndMatrix.ipynb\" target=\"_parent\"><img src=\"https://colab.research.google.com/assets/colab-badge.svg\" alt=\"Open In Colab\"/></a>"
      ]
    },
    {
      "cell_type": "markdown",
      "source": [
        "Array1. Дано целое число N (> 0). Сформировать и вывести целочисленный\n",
        "массив размера N, содержащий N первых положительных нечетных чисел:\n",
        "1, 3, 5, . . . ."
      ],
      "metadata": {
        "id": "xJ0sWsnYciKL"
      }
    },
    {
      "cell_type": "code",
      "execution_count": null,
      "metadata": {
        "colab": {
          "base_uri": "https://localhost:8080/"
        },
        "id": "1_jXvbxgcHVA",
        "outputId": "52961822-b2fc-46f4-881b-ca13a3f4f3bb"
      },
      "outputs": [
        {
          "output_type": "stream",
          "name": "stdout",
          "text": [
            "5\n",
            "[1, 3, 5, 7, 9]\n"
          ]
        }
      ],
      "source": [
        "n = int(input())\n",
        "x = []\n",
        "for i in range(n):\n",
        "  a = 2 * i + 1\n",
        "  x.append(a)\n",
        "print(x)"
      ]
    },
    {
      "cell_type": "markdown",
      "source": [
        "Array2. Дано целое число N (> 0). Сформировать и вывести целочисленный\n",
        "массив размера N, содержащий степени двойки от первой до N-й: 2, 4,\n",
        "8, 16, . . . ."
      ],
      "metadata": {
        "id": "CbLs1Umec1IO"
      }
    },
    {
      "cell_type": "code",
      "source": [
        "n = int(input())\n",
        "x = []\n",
        "for i in range(1, n + 1):\n",
        "  a = 2**i\n",
        "  x.append(a)\n",
        "print(x)"
      ],
      "metadata": {
        "colab": {
          "base_uri": "https://localhost:8080/"
        },
        "id": "V_qNLLRrdK7s",
        "outputId": "c7e60a11-20fc-4233-9b3e-b945661f8bc2"
      },
      "execution_count": null,
      "outputs": [
        {
          "output_type": "stream",
          "name": "stdout",
          "text": [
            "5\n",
            "[2, 4, 8, 16, 32]\n"
          ]
        }
      ]
    },
    {
      "cell_type": "markdown",
      "source": [
        "Array3. Дано целое число N (> 1), а также первый член A и разность D арифметической прогрессии. Сформировать и вывести массив размера N, содержащий N первых членов данной прогрессии:\n",
        "\n",
        "A, A + D, A + 2·D, A + 3·D, . . . ."
      ],
      "metadata": {
        "id": "wKDN4nj1dYpi"
      }
    },
    {
      "cell_type": "code",
      "source": [
        "n = int(input())\n",
        "a = float(input())\n",
        "d = float(input())\n",
        "x = []\n",
        "for i in range(n):\n",
        "  y = a + i * d\n",
        "  x.append(y)\n",
        "print(x)"
      ],
      "metadata": {
        "colab": {
          "base_uri": "https://localhost:8080/"
        },
        "id": "pTBfH6Axdc0y",
        "outputId": "6e9b8690-2edf-4777-a2b6-77b3cc88f9bb"
      },
      "execution_count": null,
      "outputs": [
        {
          "output_type": "stream",
          "name": "stdout",
          "text": [
            "5\n",
            "1\n",
            "2\n",
            "[1.0, 3.0, 5.0, 7.0, 9.0]\n"
          ]
        }
      ]
    },
    {
      "cell_type": "code",
      "source": [
        "n = int(input())\n",
        "a = float(input())\n",
        "d = float(input())\n",
        "x = [a]\n",
        "for i in range(1, n):\n",
        "  y = x[i - 1] + d\n",
        "  x.append(y)\n",
        "print(x)"
      ],
      "metadata": {
        "colab": {
          "base_uri": "https://localhost:8080/"
        },
        "id": "9OI3TNZmeer_",
        "outputId": "9d18c6a4-77d8-4ff2-c6ac-546af255e843"
      },
      "execution_count": null,
      "outputs": [
        {
          "output_type": "stream",
          "name": "stdout",
          "text": [
            "5\n",
            "1\n",
            "2\n",
            "[1.0, 3.0, 5.0, 7.0, 9.0]\n"
          ]
        }
      ]
    },
    {
      "cell_type": "markdown",
      "source": [
        "**Array18**. Дан массив A ненулевых целых чисел размера 10. Вывести значение\n",
        "первого из тех его элементов AK, которые удовлетворяют неравенству\n",
        "AK < A10. Если таких элементов нет, то вывести 0."
      ],
      "metadata": {
        "id": "as1z2j9djYa5"
      }
    },
    {
      "cell_type": "code",
      "source": [
        "A = [5, 13, 17, 10, 33, 54, 2, 1, 25, 4]\n",
        "Ak = 0\n",
        "for k in range(0, 10):\n",
        "  if A[k] < A[-1]:\n",
        "    Ak = A[k]\n",
        "    break\n",
        "print(Ak)"
      ],
      "metadata": {
        "colab": {
          "base_uri": "https://localhost:8080/"
        },
        "id": "tmF0NjykvmbY",
        "outputId": "b40dcc16-c3d5-46b7-99c4-6a3a168aabcf"
      },
      "execution_count": null,
      "outputs": [
        {
          "output_type": "stream",
          "name": "stdout",
          "text": [
            "2\n"
          ]
        }
      ]
    },
    {
      "cell_type": "markdown",
      "source": [
        "**Array52**. Дан массив A размера N. Сформировать новый массив B того же\n",
        "размера, элементы которого определяются следующим образом:\n",
        "\n",
        "BK = 2·AK, если AK < 5,\n",
        "AK/2 в противном случае."
      ],
      "metadata": {
        "id": "BWeKLURoBeM4"
      }
    },
    {
      "cell_type": "code",
      "source": [
        "n = int(input())\n",
        "A = []\n",
        "B = []\n",
        "for i in range(n):\n",
        "  x = int(input())\n",
        "  A.append(x)\n",
        "  if A[i] < 5:\n",
        "    y = 2 * A[i]\n",
        "  else:\n",
        "    y = A[i] / 2\n",
        "  B.append(y)\n",
        "print(A)\n",
        "print(B)"
      ],
      "metadata": {
        "colab": {
          "base_uri": "https://localhost:8080/"
        },
        "id": "TZzLjoeKBjsK",
        "outputId": "3c8c3c4a-a8d0-45fb-fb11-1a3f58ba3c2a"
      },
      "execution_count": null,
      "outputs": [
        {
          "output_type": "stream",
          "name": "stdout",
          "text": [
            "3\n",
            "6\n",
            "8\n",
            "2\n",
            "[6, 8, 2]\n",
            "[3.0, 4.0, 4]\n"
          ]
        }
      ]
    },
    {
      "cell_type": "markdown",
      "source": [
        "**Array65**. Дан массив A размера N и целое число K (1 ≤ K ≤ N). Преобразовать\n",
        "массив, увеличив каждый его элемент на исходное значение элемента AK."
      ],
      "metadata": {
        "id": "FdkaUWCgHuIs"
      }
    },
    {
      "cell_type": "code",
      "source": [
        "n = int(input())\n",
        "A = []\n",
        "B = []\n",
        "for i in range(n):\n",
        "  x = int(input())\n",
        "  A.append(x)\n",
        "print(A)\n",
        "k = int(input())\n",
        "for i in range(n):\n",
        "  y = A[i] + A[k]\n",
        "  B.append(y)\n",
        "print(B)"
      ],
      "metadata": {
        "colab": {
          "base_uri": "https://localhost:8080/"
        },
        "id": "lP9RfvN9INn6",
        "outputId": "0126c652-a5b0-4b01-847d-cdecb48bda53"
      },
      "execution_count": null,
      "outputs": [
        {
          "output_type": "stream",
          "name": "stdout",
          "text": [
            "4\n",
            "2\n",
            "5\n",
            "13\n",
            "21\n",
            "[2, 5, 13, 21]\n",
            "2\n",
            "[15, 18, 26, 34]\n"
          ]
        }
      ]
    },
    {
      "cell_type": "markdown",
      "source": [
        "**Array78**. Дан массив размера N. Заменить каждый элемент массива на среднее\n",
        "арифметическое этого элемента и его соседей."
      ],
      "metadata": {
        "id": "kqiFi2ogmT5y"
      }
    },
    {
      "cell_type": "markdown",
      "source": [
        "**Array108**. Дан массив размера N. Перед каждым положительным элементом\n",
        "массива вставить элемент с нулевым значением."
      ],
      "metadata": {
        "id": "OhqiCQT7lPxF"
      }
    }
  ]
}