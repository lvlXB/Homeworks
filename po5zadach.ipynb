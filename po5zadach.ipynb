{
  "nbformat": 4,
  "nbformat_minor": 0,
  "metadata": {
    "colab": {
      "provenance": [],
      "authorship_tag": "ABX9TyPGUIbrj9RNM6WKjwGWY6k0",
      "include_colab_link": true
    },
    "kernelspec": {
      "name": "python3",
      "display_name": "Python 3"
    },
    "language_info": {
      "name": "python"
    }
  },
  "cells": [
    {
      "cell_type": "markdown",
      "metadata": {
        "id": "view-in-github",
        "colab_type": "text"
      },
      "source": [
        "<a href=\"https://colab.research.google.com/github/lvlXB/Homeworks/blob/main/po5zadach.ipynb\" target=\"_parent\"><img src=\"https://colab.research.google.com/assets/colab-badge.svg\" alt=\"Open In Colab\"/></a>"
      ]
    },
    {
      "cell_type": "markdown",
      "source": [
        "**Begin35**. Скорость лодки в стоячей воде V км/ч, скорость течения реки U км/ч\n",
        "(U < V). Время движения лодки по озеру T1 ч, а по реке (против течения)\n",
        "— T2 ч. Определить путь S, пройденный лодкой (путь = время · скорость).\n",
        "Учесть, что при движении против течения скорость лодки уменьшается\n",
        "на величину скорости течения."
      ],
      "metadata": {
        "id": "5xh-pkClNZ2h"
      }
    },
    {
      "cell_type": "code",
      "execution_count": 2,
      "metadata": {
        "colab": {
          "base_uri": "https://localhost:8080/"
        },
        "id": "-EeJFt1iNQfD",
        "outputId": "1679fd64-a1b1-4725-c650-d09e86103780"
      },
      "outputs": [
        {
          "output_type": "stream",
          "name": "stdout",
          "text": [
            "V = 10\n",
            "U = 2\n",
            "T1 = 2\n",
            "T2 = 3\n",
            "20 24\n"
          ]
        }
      ],
      "source": [
        "V = int(input('V = '))\n",
        "U = int(input('U = '))\n",
        "T1 = int(input('T1 = '))\n",
        "T2 = int(input('T2 = '))\n",
        "S1 = V * T1\n",
        "S2 = (V - U) * T2\n",
        "print(S1, S2)"
      ]
    },
    {
      "cell_type": "markdown",
      "source": [
        "**Begin36**. Скорость первого автомобиля V1 км/ч, второго — V2 км/ч, расстояние между ними S км. Определить расстояние между ними через T часов, если автомобили удаляются друг от друга. Данное расстояние равно сумме начального расстояния и общего пути, проделанного автомобилями; общий путь = время · суммарная скорость."
      ],
      "metadata": {
        "id": "hOKGFJHLPLxZ"
      }
    },
    {
      "cell_type": "code",
      "source": [
        "V1 = int(input('V1 = '))\n",
        "V2 = int(input('V2 = '))\n",
        "T = int(input('T = '))\n",
        "S1 = int(input('S1 = '))\n",
        "S2 = S1 + T * (V1 + V2)\n",
        "print(S2)"
      ],
      "metadata": {
        "colab": {
          "base_uri": "https://localhost:8080/"
        },
        "id": "tPT6tRrWPS-p",
        "outputId": "ce68aa55-2af5-4060-e830-fba3e286118f"
      },
      "execution_count": 6,
      "outputs": [
        {
          "output_type": "stream",
          "name": "stdout",
          "text": [
            "V1 = 100\n",
            "V2 = 80\n",
            "T = 2\n",
            "S1 = 100\n",
            "460\n"
          ]
        }
      ]
    },
    {
      "cell_type": "markdown",
      "source": [
        "**Begin37**. Скорость первого автомобиля V1 км/ч, второго — V2 км/ч, расстояние\n",
        "между ними S км. Определить расстояние между ними через T часов,\n",
        "если автомобили первоначально движутся навстречу друг другу. Данное\n",
        "расстояние равно модулю разности начального расстояния и общего пути,\n",
        "проделанного автомобилями; общий путь = время · суммарная скорость."
      ],
      "metadata": {
        "id": "ASVf7buqQDkw"
      }
    },
    {
      "cell_type": "code",
      "source": [
        "from math import fabs\n",
        "V1 = int(input('V1 = '))\n",
        "V2 = int(input('V2 = '))\n",
        "T = int(input('T = '))\n",
        "S1 = int(input('S1 = '))\n",
        "S2 = fabs(T * (V1 + V2) - S1)\n",
        "print(S2)"
      ],
      "metadata": {
        "colab": {
          "base_uri": "https://localhost:8080/"
        },
        "id": "mjXHtjJ-QGqH",
        "outputId": "29dec4a7-d123-449a-da19-0a172a38b744"
      },
      "execution_count": 5,
      "outputs": [
        {
          "output_type": "stream",
          "name": "stdout",
          "text": [
            "V1 = 100\n",
            "V2 = 80\n",
            "T = 1\n",
            "S1 = 250\n",
            "70.0\n"
          ]
        }
      ]
    },
    {
      "cell_type": "markdown",
      "source": [
        "**Begin38**. Решить линейное уравнение A·x + B = 0, заданное своими коэффициентами A и B (коэффициент A не равен 0)."
      ],
      "metadata": {
        "id": "TkDhHRXlUzQA"
      }
    },
    {
      "cell_type": "code",
      "source": [
        "A = int(input('A = '))\n",
        "B = int(input('B = '))\n",
        "x = -B/A\n",
        "print(x)"
      ],
      "metadata": {
        "colab": {
          "base_uri": "https://localhost:8080/"
        },
        "id": "EpMumq-nU542",
        "outputId": "b3958efa-aea4-4c5b-85d5-7d8780938616"
      },
      "execution_count": 7,
      "outputs": [
        {
          "output_type": "stream",
          "name": "stdout",
          "text": [
            "A = 2\n",
            "B = 4\n",
            "-2.0\n"
          ]
        }
      ]
    },
    {
      "cell_type": "markdown",
      "source": [
        "**Begin39**. Найти корни квадратного уравнения A·x**2 + B·x + C = 0, заданного своими коэффициентами A, B, C (коэффициент A не равен 0), если известно, что дискриминант уравнения положителен. Вывести вначале меньший, а затем больший из найденных корней. Корни квадратного уравнения находятся по формуле\n",
        "\n",
        "x1, 2 = (−B ± √D)/(2·A),\n",
        "\n",
        "где D — дискриминант, равный B**2 − 4·A·C."
      ],
      "metadata": {
        "id": "EWmU7JFXVwj0"
      }
    },
    {
      "cell_type": "code",
      "source": [
        "from math import sqrt\n",
        "a = int(input('a = '))\n",
        "b = int(input('b = '))\n",
        "c = int(input('c = '))\n",
        "D = b**2 - 4 * a * c\n",
        "x1 = (-b - sqrt(D)) / (2 * a)\n",
        "x2 = (-b + sqrt(D)) / (2 * a)\n",
        "print(x1, x2)"
      ],
      "metadata": {
        "colab": {
          "base_uri": "https://localhost:8080/"
        },
        "id": "e5Wzh0f0VyGx",
        "outputId": "b44a78f3-b462-4fd4-d170-fefb0acecac4"
      },
      "execution_count": 15,
      "outputs": [
        {
          "output_type": "stream",
          "name": "stdout",
          "text": [
            "a = 1\n",
            "b = 4\n",
            "c = 2\n",
            "-3.414213562373095 -0.5857864376269049\n"
          ]
        }
      ]
    },
    {
      "cell_type": "markdown",
      "source": [
        "**Integer**3*. Дан размер файла в байтах. Используя операцию деления нацело,\n",
        "найти количество полных килобайтов, которые занимает данный файл\n",
        "(1 килобайт = 1024 байта)."
      ],
      "metadata": {
        "id": "9e4hhzTN34wT"
      }
    },
    {
      "cell_type": "code",
      "source": [
        "a = int(input('a = '))\n",
        "y = a // 1024\n",
        "print(y)"
      ],
      "metadata": {
        "colab": {
          "base_uri": "https://localhost:8080/"
        },
        "id": "MWOyWPfB4Gqn",
        "outputId": "6c7e850b-bcab-4ee9-df4d-96e4d4dfc04d"
      },
      "execution_count": 3,
      "outputs": [
        {
          "output_type": "stream",
          "name": "stdout",
          "text": [
            "a = 4100\n",
            "4\n"
          ]
        }
      ]
    },
    {
      "cell_type": "markdown",
      "source": [
        "**Integer**8*. Дано двузначное число. Вывести число, полученное при перестановке цифр исходного числа."
      ],
      "metadata": {
        "id": "xJueNwwN5YE-"
      }
    },
    {
      "cell_type": "code",
      "source": [
        "a = int(input('a = '))\n",
        "x = a // 10\n",
        "y = a % 10\n",
        "a = y * 10 + x\n",
        "print(a)"
      ],
      "metadata": {
        "colab": {
          "base_uri": "https://localhost:8080/"
        },
        "id": "Ol72I55A5a1X",
        "outputId": "a3d3cfa1-8231-4125-a871-8645e7a9941d"
      },
      "execution_count": 5,
      "outputs": [
        {
          "output_type": "stream",
          "name": "stdout",
          "text": [
            "a = 52\n",
            "25\n"
          ]
        }
      ]
    },
    {
      "cell_type": "markdown",
      "source": [
        "**Integer**11*. Дано трехзначное число. Найти сумму и произведение его цифр."
      ],
      "metadata": {
        "id": "mlt7sbGU-7-O"
      }
    },
    {
      "cell_type": "code",
      "source": [
        "a = int(input('a = '))\n",
        "x = a // 100\n",
        "y = (a % 100) // 10\n",
        "z = a % 10\n",
        "summ = x + y + z\n",
        "prod = x * y * z\n",
        "print(summ, prod)"
      ],
      "metadata": {
        "colab": {
          "base_uri": "https://localhost:8080/"
        },
        "id": "aVlp4IlF_E_v",
        "outputId": "719a3440-6c05-4b6b-b67b-ba2ea5a13d22"
      },
      "execution_count": 7,
      "outputs": [
        {
          "output_type": "stream",
          "name": "stdout",
          "text": [
            "a = 523\n",
            "10 30\n"
          ]
        }
      ]
    },
    {
      "cell_type": "markdown",
      "source": [
        "**Integer**29*. Даны целые положительные числа A, B, C. На прямоугольнике размера A × B размещено максимально возможное количество квадратов со стороной C (без наложений). Найти количество квадратов, размещенных на прямоугольнике, а также площадь незанятой части прямоугольника."
      ],
      "metadata": {
        "id": "6e8PsZv-CimS"
      }
    },
    {
      "cell_type": "code",
      "source": [
        "a = int(input('a = '))\n",
        "b = int(input('b = '))\n",
        "c = int(input('c = '))\n",
        "qty = (a // c * b // c)\n",
        "free = a * b - c * c * qty\n",
        "print(qty, free)"
      ],
      "metadata": {
        "colab": {
          "base_uri": "https://localhost:8080/"
        },
        "id": "fiIowMP2CnOK",
        "outputId": "b68f7eba-c099-4ba9-ee7f-24dbc8cde159"
      },
      "execution_count": 8,
      "outputs": [
        {
          "output_type": "stream",
          "name": "stdout",
          "text": [
            "a = 5\n",
            "b = 6\n",
            "c = 3\n",
            "2 12\n"
          ]
        }
      ]
    },
    {
      "cell_type": "markdown",
      "source": [
        "**Integer**30*. Дан номер некоторого года (целое положительное число). Определить соответствующий ему номер столетия, учитывая, что, к примеру, началом 20 столетия был 1901 год."
      ],
      "metadata": {
        "id": "v-pQGydWDZwo"
      }
    },
    {
      "cell_type": "code",
      "source": [
        "year = int(input('Year = '))\n",
        "century = ((year - 1) // 100) + 1\n",
        "print(century)"
      ],
      "metadata": {
        "colab": {
          "base_uri": "https://localhost:8080/"
        },
        "id": "xjvbdwAGDgxm",
        "outputId": "7d110a5b-68da-41fb-cc7e-246690694055"
      },
      "execution_count": 36,
      "outputs": [
        {
          "output_type": "stream",
          "name": "stdout",
          "text": [
            "Year = 1900\n",
            "19\n"
          ]
        }
      ]
    },
    {
      "cell_type": "markdown",
      "source": [
        "**Boolean17**. Дано целое положительное число. Проверить истинность высказывания: «Данное число является нечетным трехзначным»."
      ],
      "metadata": {
        "id": "QIzwthszRUBZ"
      }
    },
    {
      "cell_type": "code",
      "source": [
        "a = int(input('a = '))\n",
        "z = a // 100 > 0 and a // 100 < 10 and a % 10 % 2 == 1\n",
        "print(z)"
      ],
      "metadata": {
        "colab": {
          "base_uri": "https://localhost:8080/"
        },
        "id": "eSw7_dI1S_B9",
        "outputId": "7a517749-65bd-45c4-f6fa-c4b1ca9741c5"
      },
      "execution_count": 43,
      "outputs": [
        {
          "output_type": "stream",
          "name": "stdout",
          "text": [
            "a = 365\n",
            "True\n"
          ]
        }
      ]
    },
    {
      "cell_type": "markdown",
      "source": [
        "**Boolean23**. Дано четырехзначное число. Проверить истинность высказывания: «Данное число читается одинаково слева направо и справа налево»."
      ],
      "metadata": {
        "id": "S_QxpC3OVm2m"
      }
    },
    {
      "cell_type": "code",
      "source": [
        "n = int(input('Number = '))\n",
        "z = n // 1000 == n % 10 and n % 1000 // 100 == n % 100 // 10\n",
        "print(z)"
      ],
      "metadata": {
        "colab": {
          "base_uri": "https://localhost:8080/"
        },
        "id": "cZ-ZsAMyWrPV",
        "outputId": "bea2d667-2c1a-423f-fe24-7813a954c1fa"
      },
      "execution_count": 50,
      "outputs": [
        {
          "output_type": "stream",
          "name": "stdout",
          "text": [
            "Number = 1331\n",
            "True\n"
          ]
        }
      ]
    },
    {
      "cell_type": "markdown",
      "source": [
        "**Boolean24**. Даны числа A, B, C (число A не равно 0). Рассмотрев дискриминант D = B^2 − 4·A·C, проверить истинность высказывания: «Квадратное уравнение A·x^2 + B·x + C = 0 имеет вещественные корни»."
      ],
      "metadata": {
        "id": "Em0-G6JQVqBn"
      }
    },
    {
      "cell_type": "code",
      "source": [
        "import math\n",
        "a = int(input('a = '))\n",
        "b = int(input('b = '))\n",
        "c = int(input('c = '))\n",
        "D = b**2 - 4 * a * c\n",
        "x1 = (-b - math.sqrt(D)) / (2 * a)\n",
        "x2 = (-b + math.sqrt(D)) / (2 * a)\n",
        "z = x1 // 1 != x1 and x2 // 1 != x2\n",
        "print(x1, x2, z)"
      ],
      "metadata": {
        "colab": {
          "base_uri": "https://localhost:8080/"
        },
        "id": "ufJUr3OcWr_p",
        "outputId": "b9324a34-1f58-419f-a970-098e40ad4209"
      },
      "execution_count": 58,
      "outputs": [
        {
          "output_type": "stream",
          "name": "stdout",
          "text": [
            "a = 2\n",
            "b = 3\n",
            "c = -1\n",
            "-1.7807764064044151 0.28077640640441515 True\n"
          ]
        }
      ]
    },
    {
      "cell_type": "markdown",
      "source": [
        "**Boolean**29*. Даны числа x, y, x1, y1, x2, y2. Проверить истинность высказывания: «Точка с координатами (x, y) лежит внутри прямоугольника, левая верхняя вершина которого имеет координаты (x1, y1), правая нижняя — (x2, y2), а стороны параллельны координатным осям»."
      ],
      "metadata": {
        "id": "bJDS6mPzWQbV"
      }
    },
    {
      "cell_type": "code",
      "source": [
        "import math\n",
        "x = int(input('x = '))\n",
        "y = int(input('y = '))\n",
        "x1 = int(input('x1 = '))\n",
        "y1 = int(input('y1 = '))\n",
        "x2 = int(input('x2 = '))\n",
        "y2 = int(input('y2 = '))\n",
        "z = x > x1 and x < x2 and y > y2 and y < y1\n",
        "print(z)"
      ],
      "metadata": {
        "colab": {
          "base_uri": "https://localhost:8080/"
        },
        "id": "DToD7OjFWsmD",
        "outputId": "e8c73e24-64b4-4abb-cde2-4da7d2552967"
      },
      "execution_count": 59,
      "outputs": [
        {
          "output_type": "stream",
          "name": "stdout",
          "text": [
            "x = 3\n",
            "y = 4\n",
            "x1 = 1\n",
            "y1 = 5\n",
            "x2 = 6\n",
            "y2 = 2\n",
            "True\n"
          ]
        }
      ]
    },
    {
      "cell_type": "markdown",
      "source": [
        "**Boolean40**. Даны координаты двух различных полей шахматной доски x1,\n",
        "y1, x2, y2 (целые числа, лежащие в диапазоне 1–8). Проверить истинность\n",
        "высказывания: «Конь за один ход может перейти с одного поля на другое»."
      ],
      "metadata": {
        "id": "AdDHTvGgWnxY"
      }
    },
    {
      "cell_type": "code",
      "source": [
        "from math import fabs\n",
        "x1 = int(input('x1 = '))\n",
        "y1 = int(input('y1 = '))\n",
        "x2 = int(input('x2 = '))\n",
        "y2 = int(input('y2 = '))\n",
        "z = (fabs(x2 - x1) == 2 and fabs(y2 - y1) == 1) or (fabs(y2 - y1) == 2 and fabs(x2 - x1) == 1)\n",
        "print(z)"
      ],
      "metadata": {
        "colab": {
          "base_uri": "https://localhost:8080/"
        },
        "id": "jvMqR0Y7Wthf",
        "outputId": "7fe10021-7ff4-47b3-ec1c-1a6ed930991f"
      },
      "execution_count": 5,
      "outputs": [
        {
          "output_type": "stream",
          "name": "stdout",
          "text": [
            "x1 = 4\n",
            "y1 = 4\n",
            "x2 = 6\n",
            "y2 = 5\n",
            "True\n"
          ]
        }
      ]
    },
    {
      "cell_type": "markdown",
      "source": [
        "**If13**. Даны три числа. Найти среднее из них (то есть число, расположенное\n",
        "между наименьшим и наибольшим)."
      ],
      "metadata": {
        "id": "zNufefpjZjGG"
      }
    },
    {
      "cell_type": "code",
      "source": [
        "a = int(input('a = '))\n",
        "b = int(input('b = '))\n",
        "c = int(input('c = '))\n",
        "if a > b and a < c or a < b and a > c:\n",
        "  print(a)\n",
        "elif b > a and b < c or b < a and b > c:\n",
        "  print(b)\n",
        "else:\n",
        "  print(c)"
      ],
      "metadata": {
        "colab": {
          "base_uri": "https://localhost:8080/"
        },
        "id": "VPyxDdNyZp4p",
        "outputId": "d9d79164-e49e-463f-e6ce-8ef55f34d475"
      },
      "execution_count": 5,
      "outputs": [
        {
          "output_type": "stream",
          "name": "stdout",
          "text": [
            "a = 3\n",
            "b = 6\n",
            "c = 2\n",
            "3\n"
          ]
        }
      ]
    },
    {
      "cell_type": "markdown",
      "source": [
        "**If17**. Даны три переменные вещественного типа: A, B, C. Если их значения упорядочены по возрастанию или убыванию, то удвоить их; в противном случае заменить значение каждой переменной на противоположное. Вывести новые значения переменных A, B, C."
      ],
      "metadata": {
        "id": "DxTS2_Y2ZY_e"
      }
    },
    {
      "cell_type": "code",
      "source": [
        "a = float(input('a = '))\n",
        "b = float(input('b = '))\n",
        "c = float(input('c = '))\n",
        "if a < b < c or a > b > c:\n",
        "  print(a * 2, b * 2, c * 2)\n",
        "else:\n",
        "  print(a * -1, b * -1, c * -1)"
      ],
      "metadata": {
        "colab": {
          "base_uri": "https://localhost:8080/"
        },
        "id": "DjnnUz9zbgS5",
        "outputId": "056e6ee6-7c1c-4f37-f075-3c8d4234284e"
      },
      "execution_count": 8,
      "outputs": [
        {
          "output_type": "stream",
          "name": "stdout",
          "text": [
            "a = 2\n",
            "b = 4\n",
            "c = 3\n",
            "-2.0 -4.0 -3.0\n"
          ]
        }
      ]
    },
    {
      "cell_type": "markdown",
      "source": [
        "**If**22*. Даны координаты точки, не лежащей на координатных осях OX и OY.\n",
        "Определить номер координатной четверти, в которой находится данная\n",
        "точка."
      ],
      "metadata": {
        "id": "yJhhQ4FSZGeq"
      }
    },
    {
      "cell_type": "code",
      "source": [
        "x = int(input('x = '))\n",
        "y = int(input('y = '))\n",
        "if x > 0 and y > 0:\n",
        "  print('I')\n",
        "elif x < 0 and y > 0:\n",
        "  print('II')\n",
        "elif x < 0 and y < 0:\n",
        "  print('III')\n",
        "else:\n",
        "  print('IV')"
      ],
      "metadata": {
        "colab": {
          "base_uri": "https://localhost:8080/"
        },
        "id": "U8IPo0ufcowS",
        "outputId": "149b2e7c-d009-4bf1-d019-4717c7aeaacf"
      },
      "execution_count": 9,
      "outputs": [
        {
          "output_type": "stream",
          "name": "stdout",
          "text": [
            "x = -2\n",
            "y = 4\n",
            "II\n"
          ]
        }
      ]
    },
    {
      "cell_type": "markdown",
      "source": [
        "**If**26*. Для данного вещественного x найти значение следующей функции f,\n",
        "принимающей вещественные значения:\n",
        "f (x) =\n",
        "\n",
        "−x, если x ≤ 0,\n",
        "\n",
        "x^2, если 0 < x < 2,\n",
        "\n",
        "4, если x ≥ 2."
      ],
      "metadata": {
        "id": "bbJz_3c4X_VD"
      }
    },
    {
      "cell_type": "code",
      "source": [
        "x = float(input('x = '))\n",
        "if x <= 0:\n",
        "  print(-x)\n",
        "elif x > 0 and x < 2:\n",
        "  print(x**2)\n",
        "else:\n",
        "  print(4)"
      ],
      "metadata": {
        "colab": {
          "base_uri": "https://localhost:8080/"
        },
        "id": "7fC17ujydSDv",
        "outputId": "c1fb1b41-7bea-4fa3-d883-2d9f27798052"
      },
      "execution_count": 15,
      "outputs": [
        {
          "output_type": "stream",
          "name": "stdout",
          "text": [
            "x = 1.75\n",
            "3.0625\n"
          ]
        }
      ]
    },
    {
      "cell_type": "markdown",
      "source": [
        "**If30**. Дано целое число, лежащее в диапазоне 1–999. Вывести его строку-описание вида «четное двузначное число», «нечетное трехзначное число» и т. д."
      ],
      "metadata": {
        "id": "jfToVOpqXRVW"
      }
    },
    {
      "cell_type": "code",
      "source": [
        "print('Введите число от 1 до 999')\n",
        "a = int(input('a = '))\n",
        "if a % 2 == 0:\n",
        "  if a // 10 == 0:\n",
        "    print('Четное однозначное число')\n",
        "  elif a // 100 == 0:\n",
        "    print('Четное двузначное число')\n",
        "  else:\n",
        "    print('Четное трехзначное число')\n",
        "else:\n",
        "  if a // 10 == 0:\n",
        "    print('Нечетное однозначное число')\n",
        "  elif a // 100 == 0:\n",
        "    print('Нечетное двузначное число')\n",
        "  else:\n",
        "    print('Нечетное трехзначное число')"
      ],
      "metadata": {
        "colab": {
          "base_uri": "https://localhost:8080/"
        },
        "id": "l1SBzvtqeDeb",
        "outputId": "9aecd592-bdbb-47fd-ce13-962ab9d0f181"
      },
      "execution_count": 27,
      "outputs": [
        {
          "output_type": "stream",
          "name": "stdout",
          "text": [
            "Введите число от 1 до 999\n",
            "a = 512\n",
            "Четное трехзначное число\n"
          ]
        }
      ]
    },
    {
      "cell_type": "markdown",
      "source": [
        "**For26**. Дано вещественное число X (|X| < 1) и целое число N (> 0). Найти\n",
        "значение выражения\n",
        "X − X^3/3 + X^5/5 − . . . + (−1)^N ·X^(2·N+1)/(2·N+1).\n",
        "\n",
        "Полученное число является приближенным значением функции arctg в\n",
        "точке X."
      ],
      "metadata": {
        "id": "Il12D59Mgksw"
      }
    },
    {
      "cell_type": "code",
      "source": [
        "x = float(input('x = '))\n",
        "n = int(input('n = '))\n",
        "for i in range(1, n + 1):\n",
        "  arctgX = x + ((-1)**i) * ((x**(2 * i + 1)) / (2 * i + 1))\n",
        "  x = arctgX\n",
        "print('arctgX =', x)"
      ],
      "metadata": {
        "colab": {
          "base_uri": "https://localhost:8080/"
        },
        "id": "3NfB_7EdjfaL",
        "outputId": "81d371a3-eff6-4839-d52e-5bd73a46d9d2"
      },
      "execution_count": 41,
      "outputs": [
        {
          "output_type": "stream",
          "name": "stdout",
          "text": [
            "x = 0.5\n",
            "n = 5\n",
            "arctgX = 0.461820480661227\n"
          ]
        }
      ]
    },
    {
      "cell_type": "markdown",
      "source": [
        "**For30**. Дано целое число N (> 1) и две вещественные точки на числовой оси:\n",
        "A, B (A < B). Отрезок [A, B] разбит на N равных отрезков. Вывести H —\n",
        "длину каждого отрезка, а также значения функции F(X) = 1 − sin(X) в\n",
        "точках, разбивающих отрезок [A, B]:\n",
        "\n",
        "F(A), F(A + H), F(A + 2·H), . . . , F(B)."
      ],
      "metadata": {
        "id": "H5qrEx1lyved"
      }
    },
    {
      "cell_type": "code",
      "source": [
        "import math\n",
        "a = float(input('a = '))\n",
        "b = float(input('b = '))\n",
        "n = int(input('n = '))\n",
        "h = (b - a) / n\n",
        "print('H =', h)\n",
        "x = a\n",
        "for i in range(0, n + 1):\n",
        "  y = 1 - math.sin(x)\n",
        "  print('F(x) =', y)\n",
        "  x += h"
      ],
      "metadata": {
        "colab": {
          "base_uri": "https://localhost:8080/"
        },
        "id": "lhQsBurzyxwG",
        "outputId": "ac49c6d9-6640-4b94-8716-38f372608f50"
      },
      "execution_count": 54,
      "outputs": [
        {
          "output_type": "stream",
          "name": "stdout",
          "text": [
            "a = -2\n",
            "b = 7\n",
            "n = 5\n",
            "H = 1.8\n",
            "F(x) = 1.9092974268256817\n",
            "F(x) = 1.198669330795061\n",
            "F(x) = 0.0004263969584948901\n",
            "F(x) = 1.2555411020268317\n",
            "F(x) = 1.8834546557201532\n",
            "F(x) = 0.34301340128121094\n"
          ]
        }
      ]
    },
    {
      "cell_type": "markdown",
      "source": [
        "**For35**. Дано целое число N (> 2). Последовательность целых чисел AK определяется следующим образом:\n",
        "\n",
        "A1 = 1, A2 = 2, A3 = 3,\n",
        "AK = AK−1 + AK−2 − 2·AK−3, K = 4, 5, . . . .\n",
        "\n",
        "Вывести элементы A1, A2, . . . , AN ."
      ],
      "metadata": {
        "id": "SubmFdSd6sKb"
      }
    },
    {
      "cell_type": "code",
      "source": [
        "n = int(input('n = '))\n",
        "a1 = 1\n",
        "a2 = 2\n",
        "a3 = 3\n",
        "print(a1, a2, a3, end = ' ')\n",
        "for k in range(4, n + 1):\n",
        "  Ak = a3 + a2 - 2 * a1\n",
        "  print(Ak, end = ' ')\n",
        "  a1 = a2\n",
        "  a2 = a3\n",
        "  a3 = Ak"
      ],
      "metadata": {
        "colab": {
          "base_uri": "https://localhost:8080/"
        },
        "id": "a-VGi04X61cP",
        "outputId": "7d1fef43-9d60-4af7-fa58-5b9372cfa200"
      },
      "execution_count": 62,
      "outputs": [
        {
          "output_type": "stream",
          "name": "stdout",
          "text": [
            "n = 20\n",
            "1 2 3 3 2 -1 -5 -10 -13 -13 -6 7 27 46 59 51 18 -49 -133 -218 "
          ]
        }
      ]
    },
    {
      "cell_type": "markdown",
      "source": [
        "**For37**. Дано целое число N (> 0). Найти сумму\n",
        "\n",
        "1^1 + 2^2 + . . . + N^N.\n",
        "\n",
        "Чтобы избежать целочисленного переполнения, вычислять слагаемые этой суммы с помощью вещественной переменной и выводить результат как вещественное число."
      ],
      "metadata": {
        "id": "GFoDD4cZCcWc"
      }
    },
    {
      "cell_type": "code",
      "source": [
        "n = int(input('n = '))\n",
        "x = 0\n",
        "s = 0\n",
        "for i in range(1, n + 1):\n",
        "  x = i**i\n",
        "  s = s + x\n",
        "print(s)\n",
        "# не понял зачем нужно решать через вложенные циклы, но пробовал\n",
        "# также не понял как решать через вещественное"
      ],
      "metadata": {
        "colab": {
          "base_uri": "https://localhost:8080/"
        },
        "id": "VvnSeIBq9nJP",
        "outputId": "071f9562-6335-4725-e557-273af5408d68"
      },
      "execution_count": 20,
      "outputs": [
        {
          "output_type": "stream",
          "name": "stdout",
          "text": [
            "n = 3\n",
            "32\n"
          ]
        }
      ]
    },
    {
      "cell_type": "markdown",
      "source": [
        "**For39**. Даны целые положительные числа A и B (A < B). Вывести все целые\n",
        "числа от A до B включительно; при этом каждое число должно выводиться\n",
        "столько раз, каково его значение (например, число 3 выводится 3 раза)."
      ],
      "metadata": {
        "id": "qwSkC9VsCIwe"
      }
    },
    {
      "cell_type": "code",
      "source": [
        "a = int(input('a = '))\n",
        "b = int(input('b = '))\n",
        "x = a\n",
        "for i in range(a, b + 1):\n",
        "  for k in range(1, x + 1):\n",
        "    print(x, end = ' ')\n",
        "  x += 1"
      ],
      "metadata": {
        "colab": {
          "base_uri": "https://localhost:8080/"
        },
        "id": "2uN_1rCGLZSI",
        "outputId": "d0e9119e-a271-48f3-9488-528729b64bee"
      },
      "execution_count": 24,
      "outputs": [
        {
          "output_type": "stream",
          "name": "stdout",
          "text": [
            "a = 3\n",
            "b = 7\n",
            "3 3 3 4 4 4 4 5 5 5 5 5 6 6 6 6 6 6 7 7 7 7 7 7 7 "
          ]
        }
      ]
    },
    {
      "cell_type": "markdown",
      "source": [
        "**While21**. Дано целое число N (> 0). С помощью операций деления нацело\n",
        "и взятия остатка от деления определить, имеются ли в записи числа N\n",
        "нечетные цифры. Если имеются, то вывести TRUE, если нет — вывести\n",
        "FALSE."
      ],
      "metadata": {
        "id": "S5Jgpg_5ityq"
      }
    },
    {
      "cell_type": "code",
      "source": [
        "N = int(input('N = '))\n",
        "nechet = False\n",
        "while N > 0:\n",
        "  if (N % 10) % 2 == 1:\n",
        "    nechet = True\n",
        "    break\n",
        "  N = N // 10\n",
        "print(nechet)"
      ],
      "metadata": {
        "colab": {
          "base_uri": "https://localhost:8080/"
        },
        "id": "9-gP1YlLjCJ6",
        "outputId": "ee032aa0-3999-4f15-fa41-65d560a76697"
      },
      "execution_count": 20,
      "outputs": [
        {
          "output_type": "stream",
          "name": "stdout",
          "text": [
            "N = 256848\n",
            "True\n"
          ]
        }
      ]
    },
    {
      "cell_type": "markdown",
      "source": [
        "**While**23*. Даны целые положительные числа A и B. Найти их наибольший\n",
        "общий делитель (НОД), используя алгоритм Евклида:\n",
        "НОД(A, B) = НОД(B, A mod B), если B != 0; НОД(A, 0) = A."
      ],
      "metadata": {
        "id": "HGbaUu_enKL2"
      }
    },
    {
      "cell_type": "code",
      "source": [
        "print('a > b')\n",
        "a = int(input('a = '))\n",
        "b = int(input('b = '))\n",
        "while b > 0:\n",
        "  a1 = a\n",
        "  a = b\n",
        "  b = a1 % b\n",
        "print(a)"
      ],
      "metadata": {
        "colab": {
          "base_uri": "https://localhost:8080/"
        },
        "id": "_EejbAkLnMMg",
        "outputId": "eef9df94-f30e-47fa-9b24-ee1f66f529c5"
      },
      "execution_count": 25,
      "outputs": [
        {
          "output_type": "stream",
          "name": "stdout",
          "text": [
            "a > b\n",
            "a = 25\n",
            "b = 17\n",
            "1\n"
          ]
        }
      ]
    },
    {
      "cell_type": "markdown",
      "source": [
        "**While25**. Дано целое число N (> 1). Найти первое число Фибоначчи, большее N."
      ],
      "metadata": {
        "id": "XMUQZT0x--YD"
      }
    },
    {
      "cell_type": "code",
      "source": [
        "n = int(input('n = '))\n",
        "m1 = 0\n",
        "m2 = 1\n",
        "while m2 <= n:\n",
        "  m = m1 + m2\n",
        "  m1 = m2\n",
        "  m2 = m\n",
        "print(m)"
      ],
      "metadata": {
        "colab": {
          "base_uri": "https://localhost:8080/"
        },
        "id": "IRPMY_Lg_EYt",
        "outputId": "56ba70e6-f637-4feb-98c3-91365730d72f"
      },
      "execution_count": 10,
      "outputs": [
        {
          "output_type": "stream",
          "name": "stdout",
          "text": [
            "n = 567\n",
            "610\n"
          ]
        }
      ]
    },
    {
      "cell_type": "markdown",
      "source": [
        "**While29**. Дано вещественное число ε (> 0). Последовательность вещественных\n",
        "чисел AK определяется следующим образом:\n",
        "A1 = 1, A2 = 2, AK = (AK−2 + 2·AK−1)/3, K = 3, 4, . . . .\n",
        "Найти первый из номеров K, для которых выполняется условие\n",
        "|AK − AK−1| < ε, и вывести этот номер, а также числа AK−1 и AK."
      ],
      "metadata": {
        "id": "I9Yovej-T8LU"
      }
    },
    {
      "cell_type": "code",
      "source": [
        "import math\n",
        "eps = float(input('eps = '))\n",
        "a1 = 1\n",
        "a2 = 2\n",
        "k = 2\n",
        "while math.fabs(a2 - a1) > eps:\n",
        "  k = k + 1\n",
        "  ak = (a1 + 2 * a2) / 3\n",
        "  a1 = a2\n",
        "  a2 = ak\n",
        "print(k, a1, a2)"
      ],
      "metadata": {
        "colab": {
          "base_uri": "https://localhost:8080/"
        },
        "id": "bnmENfe0UD6B",
        "outputId": "2b8dd63e-2c8a-4982-84ca-73adcf3d3bfd"
      },
      "execution_count": 27,
      "outputs": [
        {
          "output_type": "stream",
          "name": "stdout",
          "text": [
            "eps = 0.005\n",
            "7 1.7530864197530864 1.748971193415638\n"
          ]
        }
      ]
    },
    {
      "cell_type": "markdown",
      "source": [
        "**While30**. Даны положительные числа A, B, C. На прямоугольнике размера A × B размещено максимально возможное количество квадратов со стороной C (без наложений). Найти количество квадратов, размещенных на прямоугольнике. Операции умножения и деления не использовать."
      ],
      "metadata": {
        "id": "Xr9Yfj0IUFqW"
      }
    },
    {
      "cell_type": "code",
      "source": [
        "a = int(input('a = '))\n",
        "b = int(input('b = '))\n",
        "c = int(input('c = '))\n",
        "cna = 0\n",
        "cnb = 0\n",
        "k = 0\n",
        "l = 0\n",
        "s = 0\n",
        "while cna < a:\n",
        "  cna = cna + c\n",
        "  if cna <= a:\n",
        "    k = k + 1\n",
        "while cnb < b:\n",
        "  cnb = cnb + c\n",
        "  if cnb <= b:\n",
        "    l = l + 1\n",
        "while l > 0:\n",
        "  s = s + k\n",
        "  l = l - 1\n",
        "print(s)"
      ],
      "metadata": {
        "colab": {
          "base_uri": "https://localhost:8080/"
        },
        "id": "63mJUQOIUOWd",
        "outputId": "2b5b70ee-7ce4-4f72-c7c8-d637daf6961f"
      },
      "execution_count": 19,
      "outputs": [
        {
          "output_type": "stream",
          "name": "stdout",
          "text": [
            "a = 5\n",
            "b = 3\n",
            "c = 2\n",
            "2\n"
          ]
        }
      ]
    }
  ]
}