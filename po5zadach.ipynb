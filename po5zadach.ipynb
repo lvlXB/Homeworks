{
  "nbformat": 4,
  "nbformat_minor": 0,
  "metadata": {
    "colab": {
      "provenance": [],
      "authorship_tag": "ABX9TyMrNwR0B6EQ8bWp+Arrevru",
      "include_colab_link": true
    },
    "kernelspec": {
      "name": "python3",
      "display_name": "Python 3"
    },
    "language_info": {
      "name": "python"
    }
  },
  "cells": [
    {
      "cell_type": "markdown",
      "metadata": {
        "id": "view-in-github",
        "colab_type": "text"
      },
      "source": [
        "<a href=\"https://colab.research.google.com/github/lvlXB/Homeworks/blob/main/po5zadach.ipynb\" target=\"_parent\"><img src=\"https://colab.research.google.com/assets/colab-badge.svg\" alt=\"Open In Colab\"/></a>"
      ]
    },
    {
      "cell_type": "markdown",
      "source": [
        "Begin35. Скорость лодки в стоячей воде V км/ч, скорость течения реки U км/ч\n",
        "(U < V). Время движения лодки по озеру T1 ч, а по реке (против течения)\n",
        "— T2 ч. Определить путь S, пройденный лодкой (путь = время · скорость).\n",
        "Учесть, что при движении против течения скорость лодки уменьшается\n",
        "на величину скорости течения."
      ],
      "metadata": {
        "id": "5xh-pkClNZ2h"
      }
    },
    {
      "cell_type": "code",
      "execution_count": 2,
      "metadata": {
        "colab": {
          "base_uri": "https://localhost:8080/"
        },
        "id": "-EeJFt1iNQfD",
        "outputId": "1679fd64-a1b1-4725-c650-d09e86103780"
      },
      "outputs": [
        {
          "output_type": "stream",
          "name": "stdout",
          "text": [
            "V = 10\n",
            "U = 2\n",
            "T1 = 2\n",
            "T2 = 3\n",
            "20 24\n"
          ]
        }
      ],
      "source": [
        "V = int(input('V = '))\n",
        "U = int(input('U = '))\n",
        "T1 = int(input('T1 = '))\n",
        "T2 = int(input('T2 = '))\n",
        "S1 = V * T1\n",
        "S2 = (V - U) * T2\n",
        "print(S1, S2)"
      ]
    },
    {
      "cell_type": "markdown",
      "source": [
        "Begin36. Скорость первого автомобиля V1 км/ч, второго — V2 км/ч, расстояние между ними S км. Определить расстояние между ними через T часов, если автомобили удаляются друг от друга. Данное расстояние равно сумме начального расстояния и общего пути, проделанного автомобилями; общий путь = время · суммарная скорость."
      ],
      "metadata": {
        "id": "hOKGFJHLPLxZ"
      }
    },
    {
      "cell_type": "code",
      "source": [
        "V1 = int(input('V1 = '))\n",
        "V2 = int(input('V2 = '))\n",
        "T = int(input('T = '))\n",
        "S1 = int(input('S1 = '))\n",
        "S2 = S1 + T * (V1 + V2)\n",
        "print(S2)"
      ],
      "metadata": {
        "colab": {
          "base_uri": "https://localhost:8080/"
        },
        "id": "tPT6tRrWPS-p",
        "outputId": "ce68aa55-2af5-4060-e830-fba3e286118f"
      },
      "execution_count": 6,
      "outputs": [
        {
          "output_type": "stream",
          "name": "stdout",
          "text": [
            "V1 = 100\n",
            "V2 = 80\n",
            "T = 2\n",
            "S1 = 100\n",
            "460\n"
          ]
        }
      ]
    },
    {
      "cell_type": "markdown",
      "source": [
        "Begin37. Скорость первого автомобиля V1 км/ч, второго — V2 км/ч, расстояние\n",
        "между ними S км. Определить расстояние между ними через T часов,\n",
        "если автомобили первоначально движутся навстречу друг другу. Данное\n",
        "расстояние равно модулю разности начального расстояния и общего пути,\n",
        "проделанного автомобилями; общий путь = время · суммарная скорость."
      ],
      "metadata": {
        "id": "ASVf7buqQDkw"
      }
    },
    {
      "cell_type": "code",
      "source": [
        "from math import fabs\n",
        "V1 = int(input('V1 = '))\n",
        "V2 = int(input('V2 = '))\n",
        "T = int(input('T = '))\n",
        "S1 = int(input('S1 = '))\n",
        "S2 = fabs(T * (V1 + V2) - S1)\n",
        "print(S2)"
      ],
      "metadata": {
        "colab": {
          "base_uri": "https://localhost:8080/"
        },
        "id": "mjXHtjJ-QGqH",
        "outputId": "29dec4a7-d123-449a-da19-0a172a38b744"
      },
      "execution_count": 5,
      "outputs": [
        {
          "output_type": "stream",
          "name": "stdout",
          "text": [
            "V1 = 100\n",
            "V2 = 80\n",
            "T = 1\n",
            "S1 = 250\n",
            "70.0\n"
          ]
        }
      ]
    },
    {
      "cell_type": "markdown",
      "source": [
        "Begin38. Решить линейное уравнение A·x + B = 0, заданное своими коэффициентами A и B (коэффициент A не равен 0)."
      ],
      "metadata": {
        "id": "TkDhHRXlUzQA"
      }
    },
    {
      "cell_type": "code",
      "source": [
        "A = int(input('A = '))\n",
        "B = int(input('B = '))\n",
        "x = -B/A\n",
        "print(x)"
      ],
      "metadata": {
        "colab": {
          "base_uri": "https://localhost:8080/"
        },
        "id": "EpMumq-nU542",
        "outputId": "b3958efa-aea4-4c5b-85d5-7d8780938616"
      },
      "execution_count": 7,
      "outputs": [
        {
          "output_type": "stream",
          "name": "stdout",
          "text": [
            "A = 2\n",
            "B = 4\n",
            "-2.0\n"
          ]
        }
      ]
    },
    {
      "cell_type": "markdown",
      "source": [
        "Begin39. Найти корни квадратного уравнения A·x**2 + B·x + C = 0, заданного своими коэффициентами A, B, C (коэффициент A не равен 0), если известно, что дискриминант уравнения положителен. Вывести вначале меньший, а затем больший из найденных корней. Корни квадратного уравнения находятся по формуле\n",
        "\n",
        "x1, 2 = (−B ± √D)/(2·A),\n",
        "\n",
        "где D — дискриминант, равный B**2 − 4·A·C."
      ],
      "metadata": {
        "id": "EWmU7JFXVwj0"
      }
    },
    {
      "cell_type": "code",
      "source": [
        "from math import sqrt\n",
        "a = int(input('a = '))\n",
        "b = int(input('b = '))\n",
        "c = int(input('c = '))\n",
        "D = b**2 - 4 * a * c\n",
        "x1 = (-b - sqrt(D)) / (2 * a)\n",
        "x2 = (-b + sqrt(D)) / (2 * a)\n",
        "print(x1, x2)"
      ],
      "metadata": {
        "colab": {
          "base_uri": "https://localhost:8080/"
        },
        "id": "e5Wzh0f0VyGx",
        "outputId": "b44a78f3-b462-4fd4-d170-fefb0acecac4"
      },
      "execution_count": 15,
      "outputs": [
        {
          "output_type": "stream",
          "name": "stdout",
          "text": [
            "a = 1\n",
            "b = 4\n",
            "c = 2\n",
            "-3.414213562373095 -0.5857864376269049\n"
          ]
        }
      ]
    },
    {
      "cell_type": "markdown",
      "source": [
        "Integer3*. Дан размер файла в байтах. Используя операцию деления нацело,\n",
        "найти количество полных килобайтов, которые занимает данный файл\n",
        "(1 килобайт = 1024 байта)."
      ],
      "metadata": {
        "id": "9e4hhzTN34wT"
      }
    },
    {
      "cell_type": "code",
      "source": [
        "a = int(input('a = '))\n",
        "y = a // 1024\n",
        "print(y)"
      ],
      "metadata": {
        "colab": {
          "base_uri": "https://localhost:8080/"
        },
        "id": "MWOyWPfB4Gqn",
        "outputId": "6c7e850b-bcab-4ee9-df4d-96e4d4dfc04d"
      },
      "execution_count": 3,
      "outputs": [
        {
          "output_type": "stream",
          "name": "stdout",
          "text": [
            "a = 4100\n",
            "4\n"
          ]
        }
      ]
    },
    {
      "cell_type": "markdown",
      "source": [
        "Integer8*. Дано двузначное число. Вывести число, полученное при перестановке цифр исходного числа."
      ],
      "metadata": {
        "id": "xJueNwwN5YE-"
      }
    },
    {
      "cell_type": "code",
      "source": [
        "a = int(input('a = '))\n",
        "x = a // 10\n",
        "y = a % 10\n",
        "a = y * 10 + x\n",
        "print(a)"
      ],
      "metadata": {
        "colab": {
          "base_uri": "https://localhost:8080/"
        },
        "id": "Ol72I55A5a1X",
        "outputId": "a3d3cfa1-8231-4125-a871-8645e7a9941d"
      },
      "execution_count": 5,
      "outputs": [
        {
          "output_type": "stream",
          "name": "stdout",
          "text": [
            "a = 52\n",
            "25\n"
          ]
        }
      ]
    },
    {
      "cell_type": "markdown",
      "source": [
        "Integer11*. Дано трехзначное число. Найти сумму и произведение его цифр."
      ],
      "metadata": {
        "id": "mlt7sbGU-7-O"
      }
    },
    {
      "cell_type": "code",
      "source": [
        "a = int(input('a = '))\n",
        "x = a // 100\n",
        "y = (a % 100) // 10\n",
        "z = a % 10\n",
        "summ = x + y + z\n",
        "prod = x * y * z\n",
        "print(summ, prod)"
      ],
      "metadata": {
        "colab": {
          "base_uri": "https://localhost:8080/"
        },
        "id": "aVlp4IlF_E_v",
        "outputId": "719a3440-6c05-4b6b-b67b-ba2ea5a13d22"
      },
      "execution_count": 7,
      "outputs": [
        {
          "output_type": "stream",
          "name": "stdout",
          "text": [
            "a = 523\n",
            "10 30\n"
          ]
        }
      ]
    },
    {
      "cell_type": "markdown",
      "source": [
        "Integer29*. Даны целые положительные числа A, B, C. На прямоугольнике размера A × B размещено максимально возможное количество квадратов со стороной C (без наложений). Найти количество квадратов, размещенных на прямоугольнике, а также площадь незанятой части прямоугольника."
      ],
      "metadata": {
        "id": "6e8PsZv-CimS"
      }
    },
    {
      "cell_type": "code",
      "source": [
        "a = int(input('a = '))\n",
        "b = int(input('b = '))\n",
        "c = int(input('c = '))\n",
        "qty = (a // c * b // c)\n",
        "free = a * b - c * c * qty\n",
        "print(qty, free)"
      ],
      "metadata": {
        "colab": {
          "base_uri": "https://localhost:8080/"
        },
        "id": "fiIowMP2CnOK",
        "outputId": "b68f7eba-c099-4ba9-ee7f-24dbc8cde159"
      },
      "execution_count": 8,
      "outputs": [
        {
          "output_type": "stream",
          "name": "stdout",
          "text": [
            "a = 5\n",
            "b = 6\n",
            "c = 3\n",
            "2 12\n"
          ]
        }
      ]
    },
    {
      "cell_type": "markdown",
      "source": [
        "Integer30*. Дан номер некоторого года (целое положительное число). Определить соответствующий ему номер столетия, учитывая, что, к примеру, началом 20 столетия был 1901 год."
      ],
      "metadata": {
        "id": "v-pQGydWDZwo"
      }
    },
    {
      "cell_type": "code",
      "source": [],
      "metadata": {
        "id": "xjvbdwAGDgxm"
      },
      "execution_count": null,
      "outputs": []
    },
    {
      "cell_type": "markdown",
      "source": [
        "While21. Дано целое число N (> 0). С помощью операций деления нацело\n",
        "и взятия остатка от деления определить, имеются ли в записи числа N\n",
        "нечетные цифры. Если имеются, то вывести TRUE, если нет — вывести\n",
        "FALSE."
      ],
      "metadata": {
        "id": "S5Jgpg_5ityq"
      }
    },
    {
      "cell_type": "code",
      "source": [
        "N = int(input('N = '))\n",
        "nechet = False\n",
        "while N > 0:\n",
        "  if (N % 10) % 2 == 1:\n",
        "    nechet = True\n",
        "    break\n",
        "  N = N // 10\n",
        "print(nechet)"
      ],
      "metadata": {
        "colab": {
          "base_uri": "https://localhost:8080/"
        },
        "id": "9-gP1YlLjCJ6",
        "outputId": "ee032aa0-3999-4f15-fa41-65d560a76697"
      },
      "execution_count": 20,
      "outputs": [
        {
          "output_type": "stream",
          "name": "stdout",
          "text": [
            "N = 256848\n",
            "True\n"
          ]
        }
      ]
    },
    {
      "cell_type": "markdown",
      "source": [
        "While23*. Даны целые положительные числа A и B. Найти их наибольший\n",
        "общий делитель (НОД), используя алгоритм Евклида:\n",
        "НОД(A, B) = НОД(B, A mod B), если B != 0; НОД(A, 0) = A."
      ],
      "metadata": {
        "id": "HGbaUu_enKL2"
      }
    },
    {
      "cell_type": "code",
      "source": [
        "print('a > b')\n",
        "a = int(input('a = '))\n",
        "b = int(input('b = '))\n",
        "nod = 1\n",
        "while b > 1:\n",
        "  a1 = a\n",
        "  a = b\n",
        "  b = a1 % b\n",
        "  if b == 0:\n",
        "    print(a)\n",
        "print(nod)"
      ],
      "metadata": {
        "colab": {
          "base_uri": "https://localhost:8080/"
        },
        "id": "_EejbAkLnMMg",
        "outputId": "7fb471c0-2eed-4fa6-f480-ab889ab3bbf5"
      },
      "execution_count": 36,
      "outputs": [
        {
          "output_type": "stream",
          "name": "stdout",
          "text": [
            "a > b\n",
            "a = 25\n",
            "b = 15\n",
            "5\n",
            "1\n"
          ]
        }
      ]
    }
  ]
}